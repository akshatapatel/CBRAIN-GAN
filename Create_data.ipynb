{
  "nbformat": 4,
  "nbformat_minor": 0,
  "metadata": {
    "colab": {
      "name": "Create_data.ipynb",
      "provenance": [],
      "collapsed_sections": [],
      "toc_visible": true,
      "machine_shape": "hm"
    },
    "kernelspec": {
      "name": "python3",
      "display_name": "Python 3"
    },
    "accelerator": "GPU"
  },
  "cells": [
    {
      "cell_type": "code",
      "metadata": {
        "id": "EpQ2Ko_PT3ty",
        "colab_type": "code",
        "colab": {}
      },
      "source": [
        "import xarray as xr\n",
        "import numpy as np\n",
        "import pandas as pd\n",
        "import pickle\n",
        "import os"
      ],
      "execution_count": 0,
      "outputs": []
    },
    {
      "cell_type": "markdown",
      "metadata": {
        "id": "NVSgnurfO7qo",
        "colab_type": "text"
      },
      "source": [
        "##### Add the correct path to `000_train.nc`"
      ]
    },
    {
      "cell_type": "code",
      "metadata": {
        "id": "6mW-H6MTXdMk",
        "colab_type": "code",
        "colab": {}
      },
      "source": [
        "ds = xr.open_dataset('000_train.nc')\n",
        "ds"
      ],
      "execution_count": 0,
      "outputs": []
    },
    {
      "cell_type": "code",
      "metadata": {
        "id": "QgaRYmUhPGHH",
        "colab_type": "code",
        "colab": {}
      },
      "source": [
        "def create_gan_dataset(ds, time_steps):\n",
        "  '''\n",
        "  This function reads in the .nc file and converts it to a dataframe with the\n",
        "  columns:\n",
        "  1. Lat\n",
        "  2. Lon\n",
        "  3. Time\n",
        "  4. LHFLX\n",
        "  5. PRECT\n",
        "  6. PS\n",
        "  7. QBP\n",
        "  8. SHFLX\n",
        "  9. SOLIN\n",
        "  10. TBP\n",
        "  The data is taken for whatever number of time_steps we want to provide\n",
        "  '''\n",
        "  ds_prect=ds.where((ds.var_names=='PRECT') | (ds.var_names=='QBP') |\\\n",
        "                    (ds.var_names=='TBP') | (ds.var_names=='PS') |\\\n",
        "                    (ds.var_names=='SOLIN') | (ds.var_names=='SHFLX') |\\\n",
        "                    (ds.var_names=='LHFLX'), drop=True)\n",
        "  final_df = pd.DataFrame(columns=['lat','lon','var_names','vars','time'])\n",
        "  TIME_STEPS = time_steps\n",
        "\n",
        "  # iterate over each time step to get all columns for all locations at that time\n",
        "  # (1 time step = 15 min)\n",
        "  for i in range(TIME_STEPS):\n",
        "    ds_prect_time = ds_prect.where(ds_prect.time == i, drop=True)\n",
        "    d=ds_prect_time.to_dataframe()\n",
        "    # only taking the bottom 19 values for QBP and TBP (as they have the most effect on PRECT)\n",
        "    a = d.groupby(['lat','lon','var_names']).tail(19)\n",
        "    # then finally take the mean of QBP abd TBP over the 19 levels\n",
        "    d_grouped = a.groupby(['lat','lon','var_names']).mean()\n",
        "    d_grouped.reset_index(inplace=True)\n",
        "    final_df = pd.concat([final_df, d_grouped])\n",
        "  \n",
        "  # Convert the range of Lon from (0,360) to (-180, 180)\n",
        "  final_df.lon = final_df.lon-180\n",
        "\n",
        "  # convert the data to the required format such that each variables becomes a column\n",
        "  d_vars = final_df.pivot_table('vars',['lat','lon','time'],'var_names').reset_index()\n",
        "  \n",
        "  # store data in a pickle file for re-use\n",
        "  pickle.dump(d_vars, open('data.pkl', 'wb'))\n",
        "  return d_vars"
      ],
      "execution_count": 0,
      "outputs": []
    },
    {
      "cell_type": "markdown",
      "metadata": {
        "id": "x0P2G7MIR9mx",
        "colab_type": "text"
      },
      "source": [
        "#### Create the dataset"
      ]
    },
    {
      "cell_type": "code",
      "metadata": {
        "id": "cc7rOfulRozD",
        "colab_type": "code",
        "colab": {}
      },
      "source": [
        "d_vars = create_gan_dataset(ds, 200)"
      ],
      "execution_count": 0,
      "outputs": []
    },
    {
      "cell_type": "code",
      "metadata": {
        "id": "M8DP3L0uRtNL",
        "colab_type": "code",
        "colab": {}
      },
      "source": [
        "d_vars.head()"
      ],
      "execution_count": 0,
      "outputs": []
    },
    {
      "cell_type": "code",
      "metadata": {
        "id": "1cku0eSlDQNa",
        "colab_type": "code",
        "colab": {}
      },
      "source": [
        "d_vars.describe()"
      ],
      "execution_count": 0,
      "outputs": []
    },
    {
      "cell_type": "code",
      "metadata": {
        "id": "5X9DVuu0zvZ6",
        "colab_type": "code",
        "colab": {}
      },
      "source": [
        "d_vars.shape"
      ],
      "execution_count": 0,
      "outputs": []
    }
  ]
}