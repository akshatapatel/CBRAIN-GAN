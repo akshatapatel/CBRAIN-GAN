{
 "cells": [
  {
   "cell_type": "code",
   "execution_count": 0,
   "metadata": {
    "colab": {},
    "colab_type": "code",
    "id": "EpQ2Ko_PT3ty"
   },
   "outputs": [],
   "source": [
    "import xarray as xr\n",
    "import numpy as np\n",
    "import pandas as pd\n",
    "import pickle\n",
    "import os"
   ]
  },
  {
   "cell_type": "markdown",
   "metadata": {
    "colab_type": "text",
    "id": "NVSgnurfO7qo"
   },
   "source": [
    "##### Add the correct path to `000_train.nc`"
   ]
  },
  {
   "cell_type": "code",
   "execution_count": 0,
   "metadata": {
    "colab": {},
    "colab_type": "code",
    "id": "6mW-H6MTXdMk"
   },
   "outputs": [],
   "source": [
    "ds = xr.open_dataset('000_train.nc')\n",
    "ds"
   ]
  },
  {
   "cell_type": "code",
   "execution_count": 0,
   "metadata": {
    "colab": {},
    "colab_type": "code",
    "id": "QgaRYmUhPGHH"
   },
   "outputs": [],
   "source": [
    "def create_gan_dataset(ds, time_steps):\n",
    "  '''\n",
    "  This function reads in the .nc file and converts it to a dataframe with the\n",
    "  columns:\n",
    "  1. Lat\n",
    "  2. Lon\n",
    "  3. Time\n",
    "  4. LHFLX\n",
    "  5. PRECT\n",
    "  6. PS\n",
    "  7. QBP\n",
    "  8. SHFLX\n",
    "  9. SOLIN\n",
    "  10. TBP\n",
    "  The data is taken for whatever number of time_steps we want to provide\n",
    "  '''\n",
    "  ds_prect=ds.where((ds.var_names=='PRECT') | (ds.var_names=='QBP') |\\\n",
    "                    (ds.var_names=='TBP') | (ds.var_names=='PS') |\\\n",
    "                    (ds.var_names=='SOLIN') | (ds.var_names=='SHFLX') |\\\n",
    "                    (ds.var_names=='LHFLX'), drop=True)\n",
    "  final_df = pd.DataFrame(columns=['lat','lon','var_names','vars','time'])\n",
    "  TIME_STEPS = time_steps\n",
    "\n",
    "  # iterate over each time step to get all columns for all locations at that time\n",
    "  # (1 time step = 15 min)\n",
    "  for i in range(TIME_STEPS):\n",
    "    ds_prect_time = ds_prect.where(ds_prect.time == i, drop=True)\n",
    "    d=ds_prect_time.to_dataframe()\n",
    "    # only taking the bottom 19 values for QBP and TBP (as they have the most effect on PRECT)\n",
    "    a = d.groupby(['lat','lon','var_names']).tail(19)\n",
    "    # then finally take the mean of QBP abd TBP over the 19 levels\n",
    "    d_grouped = a.groupby(['lat','lon','var_names']).mean()\n",
    "    d_grouped.reset_index(inplace=True)\n",
    "    final_df = pd.concat([final_df, d_grouped])\n",
    "  \n",
    "  # Convert the range of Lon from (0,360) to (-180, 180)\n",
    "  final_df.lon = final_df.lon-180\n",
    "\n",
    "  # convert the data to the required format such that each variables becomes a column\n",
    "  d_vars = final_df.pivot_table('vars',['lat','lon','time'],'var_names').reset_index()\n",
    "  \n",
    "  # store data in a pickle file for re-use\n",
    "  pickle.dump(d_vars, open('data.pkl', 'wb'))\n",
    "  return d_vars"
   ]
  },
  {
   "cell_type": "markdown",
   "metadata": {
    "colab_type": "text",
    "id": "x0P2G7MIR9mx"
   },
   "source": [
    "#### Create the dataset"
   ]
  },
  {
   "cell_type": "code",
   "execution_count": 0,
   "metadata": {
    "colab": {},
    "colab_type": "code",
    "id": "cc7rOfulRozD"
   },
   "outputs": [],
   "source": [
    "d_vars = create_gan_dataset(ds, 200)"
   ]
  },
  {
   "cell_type": "code",
   "execution_count": 0,
   "metadata": {
    "colab": {},
    "colab_type": "code",
    "id": "M8DP3L0uRtNL"
   },
   "outputs": [],
   "source": [
    "d_vars.head()"
   ]
  },
  {
   "cell_type": "code",
   "execution_count": 0,
   "metadata": {
    "colab": {},
    "colab_type": "code",
    "id": "1cku0eSlDQNa"
   },
   "outputs": [],
   "source": [
    "d_vars.describe()"
   ]
  },
  {
   "cell_type": "code",
   "execution_count": 0,
   "metadata": {
    "colab": {},
    "colab_type": "code",
    "id": "5X9DVuu0zvZ6"
   },
   "outputs": [],
   "source": [
    "d_vars.shape"
   ]
  }
 ],
 "metadata": {
  "accelerator": "GPU",
  "colab": {
   "collapsed_sections": [],
   "machine_shape": "hm",
   "name": "Create_data.ipynb",
   "provenance": [],
   "toc_visible": true
  },
  "kernelspec": {
   "display_name": "Python 3",
   "language": "python",
   "name": "python3"
  },
  "language_info": {
   "codemirror_mode": {
    "name": "ipython",
    "version": 3
   },
   "file_extension": ".py",
   "mimetype": "text/x-python",
   "name": "python",
   "nbconvert_exporter": "python",
   "pygments_lexer": "ipython3",
   "version": "3.6.7"
  }
 },
 "nbformat": 4,
 "nbformat_minor": 1
}
