{
  "nbformat": 4,
  "nbformat_minor": 0,
  "metadata": {
    "colab": {
      "name": "Train_GAN_three_features.ipynb",
      "provenance": [],
      "collapsed_sections": [],
      "machine_shape": "hm"
    },
    "kernelspec": {
      "name": "python3",
      "display_name": "Python 3"
    },
    "accelerator": "GPU"
  },
  "cells": [
    {
      "cell_type": "code",
      "metadata": {
        "id": "ERgSCUsVPp_u",
        "colab_type": "code",
        "outputId": "5b1f30d1-8275-4aa6-80a0-4146a4bd8bf6",
        "colab": {
          "base_uri": "https://localhost:8080/",
          "height": 121
        }
      },
      "source": [
        "from google.colab import drive\n",
        "drive.mount('/content/drive')"
      ],
      "execution_count": 1,
      "outputs": [
        {
          "output_type": "stream",
          "text": [
            "Go to this URL in a browser: https://accounts.google.com/o/oauth2/auth?client_id=947318989803-6bn6qk8qdgf4n4g3pfee6491hc0brc4i.apps.googleusercontent.com&redirect_uri=urn%3aietf%3awg%3aoauth%3a2.0%3aoob&response_type=code&scope=email%20https%3a%2f%2fwww.googleapis.com%2fauth%2fdocs.test%20https%3a%2f%2fwww.googleapis.com%2fauth%2fdrive%20https%3a%2f%2fwww.googleapis.com%2fauth%2fdrive.photos.readonly%20https%3a%2f%2fwww.googleapis.com%2fauth%2fpeopleapi.readonly\n",
            "\n",
            "Enter your authorization code:\n",
            "··········\n",
            "Mounted at /content/drive\n"
          ],
          "name": "stdout"
        }
      ]
    },
    {
      "cell_type": "code",
      "metadata": {
        "id": "8fX0CcRVQchy",
        "colab_type": "code",
        "colab": {}
      },
      "source": [
        "import os\n",
        "os.chdir(\"/content/drive/My Drive/Capstone Project/GAN-Capstone/\")"
      ],
      "execution_count": 0,
      "outputs": []
    },
    {
      "cell_type": "code",
      "metadata": {
        "id": "i926gKTbQiuN",
        "colab_type": "code",
        "outputId": "9c393304-7167-4769-8af3-74d1d121667e",
        "colab": {
          "base_uri": "https://localhost:8080/",
          "height": 272
        }
      },
      "source": [
        "!ls\n",
        "!pip install netcdf4"
      ],
      "execution_count": 3,
      "outputs": [
        {
          "output_type": "stream",
          "text": [
            "000_norm.nc\t      data_all_features.pkl    results_akshata.pkl\n",
            "000_train.nc\t      data.pkl\t\t       results_diff_optim_hrishi.pkl\n",
            "000_train_shuffle.nc  results_aashna.pkl       results.pkl\n",
            "000_valid.nc\t      results-aashna.pkl\n",
            "checkpoints\t      results_akshata_new.pkl\n",
            "Collecting netcdf4\n",
            "\u001b[?25l  Downloading https://files.pythonhosted.org/packages/35/4f/d49fe0c65dea4d2ebfdc602d3e3d2a45a172255c151f4497c43f6d94a5f6/netCDF4-1.5.3-cp36-cp36m-manylinux1_x86_64.whl (4.1MB)\n",
            "\u001b[K     |████████████████████████████████| 4.1MB 4.7MB/s \n",
            "\u001b[?25hRequirement already satisfied: numpy>=1.7 in /usr/local/lib/python3.6/dist-packages (from netcdf4) (1.17.4)\n",
            "Collecting cftime\n",
            "\u001b[?25l  Downloading https://files.pythonhosted.org/packages/d7/20/15fd894e64f14d6b8afa1cd6dd833c1ea85d1cedb46fdba2d9f8fbc3a924/cftime-1.0.4.2-cp36-cp36m-manylinux1_x86_64.whl (308kB)\n",
            "\u001b[K     |████████████████████████████████| 317kB 41.5MB/s \n",
            "\u001b[?25hInstalling collected packages: cftime, netcdf4\n",
            "Successfully installed cftime-1.0.4.2 netcdf4-1.5.3\n"
          ],
          "name": "stdout"
        }
      ]
    },
    {
      "cell_type": "code",
      "metadata": {
        "id": "EpQ2Ko_PT3ty",
        "colab_type": "code",
        "colab": {}
      },
      "source": [
        "import xarray as xr\n",
        "import numpy as np\n",
        "import pandas as pd\n",
        "import matplotlib.pyplot as plt\n",
        "import scipy.special as s\n",
        "import pickle\n",
        "import torch\n",
        "from torch import nn, optim\n",
        "from torch.autograd.variable import Variable\n",
        "from torchvision import transforms, datasets"
      ],
      "execution_count": 0,
      "outputs": []
    },
    {
      "cell_type": "code",
      "metadata": {
        "id": "hiIRohEVXhqK",
        "colab_type": "code",
        "colab": {}
      },
      "source": [
        "d_vars = pickle.load(open('data.pkl','rb'))"
      ],
      "execution_count": 0,
      "outputs": []
    },
    {
      "cell_type": "code",
      "metadata": {
        "id": "EpSnXYV6EuUy",
        "colab_type": "code",
        "outputId": "109d77f4-e895-459e-c3d6-3e57b054cbac",
        "colab": {
          "base_uri": "https://localhost:8080/",
          "height": 34
        }
      },
      "source": [
        "d_vars.shape"
      ],
      "execution_count": 11,
      "outputs": [
        {
          "output_type": "execute_result",
          "data": {
            "text/plain": [
              "(35458560, 5)"
            ]
          },
          "metadata": {
            "tags": []
          },
          "execution_count": 11
        }
      ]
    },
    {
      "cell_type": "code",
      "metadata": {
        "id": "A5eF-6aNijRz",
        "colab_type": "code",
        "colab": {
          "base_uri": "https://localhost:8080/",
          "height": 402
        },
        "outputId": "6bf452cb-40bf-4c93-b6ec-bd2ac88be087"
      },
      "source": [
        "d_vars"
      ],
      "execution_count": 13,
      "outputs": [
        {
          "output_type": "execute_result",
          "data": {
            "text/html": [
              "<div>\n",
              "<style scoped>\n",
              "    .dataframe tbody tr th:only-of-type {\n",
              "        vertical-align: middle;\n",
              "    }\n",
              "\n",
              "    .dataframe tbody tr th {\n",
              "        vertical-align: top;\n",
              "    }\n",
              "\n",
              "    .dataframe thead th {\n",
              "        text-align: right;\n",
              "    }\n",
              "</style>\n",
              "<table border=\"1\" class=\"dataframe\">\n",
              "  <thead>\n",
              "    <tr style=\"text-align: right;\">\n",
              "      <th></th>\n",
              "      <th>lat</th>\n",
              "      <th>lon</th>\n",
              "      <th>var_names</th>\n",
              "      <th>vars</th>\n",
              "      <th>time</th>\n",
              "    </tr>\n",
              "  </thead>\n",
              "  <tbody>\n",
              "    <tr>\n",
              "      <th>0</th>\n",
              "      <td>-90.0</td>\n",
              "      <td>0.0</td>\n",
              "      <td>PRECT</td>\n",
              "      <td>6.826498e-10</td>\n",
              "      <td>0</td>\n",
              "    </tr>\n",
              "    <tr>\n",
              "      <th>1</th>\n",
              "      <td>-90.0</td>\n",
              "      <td>0.0</td>\n",
              "      <td>QBP</td>\n",
              "      <td>4.840826e-05</td>\n",
              "      <td>0</td>\n",
              "    </tr>\n",
              "    <tr>\n",
              "      <th>2</th>\n",
              "      <td>-90.0</td>\n",
              "      <td>0.0</td>\n",
              "      <td>TBP</td>\n",
              "      <td>2.068339e+02</td>\n",
              "      <td>0</td>\n",
              "    </tr>\n",
              "    <tr>\n",
              "      <th>3</th>\n",
              "      <td>-90.0</td>\n",
              "      <td>2.5</td>\n",
              "      <td>PRECT</td>\n",
              "      <td>6.949842e-10</td>\n",
              "      <td>0</td>\n",
              "    </tr>\n",
              "    <tr>\n",
              "      <th>4</th>\n",
              "      <td>-90.0</td>\n",
              "      <td>2.5</td>\n",
              "      <td>QBP</td>\n",
              "      <td>4.840826e-05</td>\n",
              "      <td>0</td>\n",
              "    </tr>\n",
              "    <tr>\n",
              "      <th>...</th>\n",
              "      <td>...</td>\n",
              "      <td>...</td>\n",
              "      <td>...</td>\n",
              "      <td>...</td>\n",
              "      <td>...</td>\n",
              "    </tr>\n",
              "    <tr>\n",
              "      <th>41467</th>\n",
              "      <td>90.0</td>\n",
              "      <td>355.0</td>\n",
              "      <td>QBP</td>\n",
              "      <td>1.304923e-03</td>\n",
              "      <td>862</td>\n",
              "    </tr>\n",
              "    <tr>\n",
              "      <th>41468</th>\n",
              "      <td>90.0</td>\n",
              "      <td>355.0</td>\n",
              "      <td>TBP</td>\n",
              "      <td>2.441204e+02</td>\n",
              "      <td>862</td>\n",
              "    </tr>\n",
              "    <tr>\n",
              "      <th>41469</th>\n",
              "      <td>90.0</td>\n",
              "      <td>357.5</td>\n",
              "      <td>PRECT</td>\n",
              "      <td>6.500282e-09</td>\n",
              "      <td>862</td>\n",
              "    </tr>\n",
              "    <tr>\n",
              "      <th>41470</th>\n",
              "      <td>90.0</td>\n",
              "      <td>357.5</td>\n",
              "      <td>QBP</td>\n",
              "      <td>1.304923e-03</td>\n",
              "      <td>862</td>\n",
              "    </tr>\n",
              "    <tr>\n",
              "      <th>41471</th>\n",
              "      <td>90.0</td>\n",
              "      <td>357.5</td>\n",
              "      <td>TBP</td>\n",
              "      <td>2.441204e+02</td>\n",
              "      <td>862</td>\n",
              "    </tr>\n",
              "  </tbody>\n",
              "</table>\n",
              "<p>35458560 rows × 5 columns</p>\n",
              "</div>"
            ],
            "text/plain": [
              "        lat    lon var_names          vars time\n",
              "0     -90.0    0.0     PRECT  6.826498e-10    0\n",
              "1     -90.0    0.0       QBP  4.840826e-05    0\n",
              "2     -90.0    0.0       TBP  2.068339e+02    0\n",
              "3     -90.0    2.5     PRECT  6.949842e-10    0\n",
              "4     -90.0    2.5       QBP  4.840826e-05    0\n",
              "...     ...    ...       ...           ...  ...\n",
              "41467  90.0  355.0       QBP  1.304923e-03  862\n",
              "41468  90.0  355.0       TBP  2.441204e+02  862\n",
              "41469  90.0  357.5     PRECT  6.500282e-09  862\n",
              "41470  90.0  357.5       QBP  1.304923e-03  862\n",
              "41471  90.0  357.5       TBP  2.441204e+02  862\n",
              "\n",
              "[35458560 rows x 5 columns]"
            ]
          },
          "metadata": {
            "tags": []
          },
          "execution_count": 13
        }
      ]
    },
    {
      "cell_type": "code",
      "metadata": {
        "id": "mVZz3F3OeoP_",
        "colab_type": "code",
        "colab": {}
      },
      "source": [
        "d_vars = d_vars.pivot_table('vars',['lat','lon','time'],'var_names').reset_index()\n",
        "d_non_zero = d_vars[d_vars.PRECT>0]"
      ],
      "execution_count": 0,
      "outputs": []
    },
    {
      "cell_type": "code",
      "metadata": {
        "id": "FqP7tpnavzbb",
        "colab_type": "code",
        "colab": {}
      },
      "source": [
        "plt.hist(s.boxcox(d_non_zero.PRECT,0.1),density=True,bins=20)\n",
        "plt.xlabel('BoxCox Transform of PRECT')\n",
        "plt.ylabel('Density')"
      ],
      "execution_count": 0,
      "outputs": []
    },
    {
      "cell_type": "code",
      "metadata": {
        "id": "107ERkh6WLuW",
        "colab_type": "code",
        "outputId": "7b66f9c4-11a8-4029-cd55-f07c89ddc377",
        "colab": {
          "base_uri": "https://localhost:8080/",
          "height": 218
        }
      },
      "source": [
        "d_non_zero['PRECT_NEW'] = s.boxcox(d_non_zero.PRECT, 0.1)\n",
        "d_non_zero['QBP_NEW'] = d_non_zero.QBP**(1/4)"
      ],
      "execution_count": 15,
      "outputs": [
        {
          "output_type": "stream",
          "text": [
            "/usr/local/lib/python3.6/dist-packages/ipykernel_launcher.py:1: SettingWithCopyWarning: \n",
            "A value is trying to be set on a copy of a slice from a DataFrame.\n",
            "Try using .loc[row_indexer,col_indexer] = value instead\n",
            "\n",
            "See the caveats in the documentation: http://pandas.pydata.org/pandas-docs/stable/user_guide/indexing.html#returning-a-view-versus-a-copy\n",
            "  \"\"\"Entry point for launching an IPython kernel.\n",
            "/usr/local/lib/python3.6/dist-packages/ipykernel_launcher.py:2: SettingWithCopyWarning: \n",
            "A value is trying to be set on a copy of a slice from a DataFrame.\n",
            "Try using .loc[row_indexer,col_indexer] = value instead\n",
            "\n",
            "See the caveats in the documentation: http://pandas.pydata.org/pandas-docs/stable/user_guide/indexing.html#returning-a-view-versus-a-copy\n",
            "  \n"
          ],
          "name": "stderr"
        }
      ]
    },
    {
      "cell_type": "code",
      "metadata": {
        "id": "pMh9k3qMG5a2",
        "colab_type": "code",
        "outputId": "4b4b7a92-4870-4d01-bd20-a53005d6c320",
        "colab": {
          "base_uri": "https://localhost:8080/",
          "height": 185
        }
      },
      "source": [
        "d_non_zero = (d_non_zero).astype({'QBP_NEW': 'float32'})\n",
        "d_non_zero.dtypes"
      ],
      "execution_count": 16,
      "outputs": [
        {
          "output_type": "execute_result",
          "data": {
            "text/plain": [
              "var_names\n",
              "lat          float64\n",
              "lon          float64\n",
              "time           int64\n",
              "PRECT        float32\n",
              "QBP          float32\n",
              "TBP          float32\n",
              "PRECT_NEW    float32\n",
              "QBP_NEW      float32\n",
              "dtype: object"
            ]
          },
          "metadata": {
            "tags": []
          },
          "execution_count": 16
        }
      ]
    },
    {
      "cell_type": "code",
      "metadata": {
        "id": "unJfTr4JHCwX",
        "colab_type": "code",
        "outputId": "8d0b01ed-3bc8-4ddf-e054-52edaa5c3001",
        "colab": {
          "base_uri": "https://localhost:8080/",
          "height": 34
        }
      },
      "source": [
        "data=np.array(d_non_zero[['PRECT_NEW','QBP_NEW','TBP']])\n",
        "data.shape"
      ],
      "execution_count": 17,
      "outputs": [
        {
          "output_type": "execute_result",
          "data": {
            "text/plain": [
              "(8121856, 3)"
            ]
          },
          "metadata": {
            "tags": []
          },
          "execution_count": 17
        }
      ]
    },
    {
      "cell_type": "code",
      "metadata": {
        "id": "IPJKb1KdH2Wu",
        "colab_type": "code",
        "outputId": "1bce831c-73b3-42cf-fb57-90518dd80b88",
        "colab": {
          "base_uri": "https://localhost:8080/",
          "height": 265
        }
      },
      "source": [
        "plt.hist(d_non_zero.PRECT_NEW.values, density=True, bins=20)\n",
        "plt.show()"
      ],
      "execution_count": 18,
      "outputs": [
        {
          "output_type": "display_data",
          "data": {
            "image/png": "[encoded data removed]",
            "text/plain": [
              "<Figure size 432x288 with 1 Axes>"
            ]
          },
          "metadata": {
            "tags": []
          }
        }
      ]
    },
    {
      "cell_type": "code",
      "metadata": {
        "id": "-Fh5SHj1nd0n",
        "colab_type": "code",
        "outputId": "eb612a7b-cf91-4a90-e01d-51cdfa22a68c",
        "colab": {
          "base_uri": "https://localhost:8080/",
          "height": 297
        }
      },
      "source": [
        "d_non_zero.describe()"
      ],
      "execution_count": 0,
      "outputs": [
        {
          "output_type": "execute_result",
          "data": {
            "text/html": [
              "<div>\n",
              "<style scoped>\n",
              "    .dataframe tbody tr th:only-of-type {\n",
              "        vertical-align: middle;\n",
              "    }\n",
              "\n",
              "    .dataframe tbody tr th {\n",
              "        vertical-align: top;\n",
              "    }\n",
              "\n",
              "    .dataframe thead th {\n",
              "        text-align: right;\n",
              "    }\n",
              "</style>\n",
              "<table border=\"1\" class=\"dataframe\">\n",
              "  <thead>\n",
              "    <tr style=\"text-align: right;\">\n",
              "      <th>var_names</th>\n",
              "      <th>lat</th>\n",
              "      <th>lon</th>\n",
              "      <th>time</th>\n",
              "      <th>PRECT</th>\n",
              "      <th>QBP</th>\n",
              "      <th>TBP</th>\n",
              "      <th>PRECT_NEW</th>\n",
              "      <th>QBP_NEW</th>\n",
              "    </tr>\n",
              "  </thead>\n",
              "  <tbody>\n",
              "    <tr>\n",
              "      <th>count</th>\n",
              "      <td>8.121856e+06</td>\n",
              "      <td>8.121856e+06</td>\n",
              "      <td>8.121856e+06</td>\n",
              "      <td>8.121856e+06</td>\n",
              "      <td>8.121856e+06</td>\n",
              "      <td>8.121856e+06</td>\n",
              "      <td>8.121856e+06</td>\n",
              "      <td>8.121856e+06</td>\n",
              "    </tr>\n",
              "    <tr>\n",
              "      <th>mean</th>\n",
              "      <td>-3.104719e+00</td>\n",
              "      <td>1.830262e+02</td>\n",
              "      <td>4.307007e+02</td>\n",
              "      <td>3.934345e-08</td>\n",
              "      <td>2.068189e-03</td>\n",
              "      <td>2.450582e+02</td>\n",
              "      <td>-8.212408e+00</td>\n",
              "      <td>1.943668e-01</td>\n",
              "    </tr>\n",
              "    <tr>\n",
              "      <th>std</th>\n",
              "      <td>5.648257e+01</td>\n",
              "      <td>1.007385e+02</td>\n",
              "      <td>2.482653e+02</td>\n",
              "      <td>1.138142e-07</td>\n",
              "      <td>1.654640e-03</td>\n",
              "      <td>1.395648e+01</td>\n",
              "      <td>5.035992e-01</td>\n",
              "      <td>5.522918e-02</td>\n",
              "    </tr>\n",
              "    <tr>\n",
              "      <th>min</th>\n",
              "      <td>-9.000000e+01</td>\n",
              "      <td>0.000000e+00</td>\n",
              "      <td>0.000000e+00</td>\n",
              "      <td>1.999409e-20</td>\n",
              "      <td>1.246195e-05</td>\n",
              "      <td>2.024226e+02</td>\n",
              "      <td>-9.892826e+00</td>\n",
              "      <td>5.941506e-02</td>\n",
              "    </tr>\n",
              "    <tr>\n",
              "      <th>25%</th>\n",
              "      <td>-5.400000e+01</td>\n",
              "      <td>1.000000e+02</td>\n",
              "      <td>2.170000e+02</td>\n",
              "      <td>8.233272e-10</td>\n",
              "      <td>7.904472e-04</td>\n",
              "      <td>2.344949e+02</td>\n",
              "      <td>-8.765312e+00</td>\n",
              "      <td>1.676750e-01</td>\n",
              "    </tr>\n",
              "    <tr>\n",
              "      <th>50%</th>\n",
              "      <td>-6.631579e+00</td>\n",
              "      <td>1.850000e+02</td>\n",
              "      <td>4.300000e+02</td>\n",
              "      <td>5.232335e-09</td>\n",
              "      <td>1.547502e-03</td>\n",
              "      <td>2.447079e+02</td>\n",
              "      <td>-8.514510e+00</td>\n",
              "      <td>1.983388e-01</td>\n",
              "    </tr>\n",
              "    <tr>\n",
              "      <th>75%</th>\n",
              "      <td>5.021053e+01</td>\n",
              "      <td>2.675000e+02</td>\n",
              "      <td>6.440000e+02</td>\n",
              "      <td>2.284181e-08</td>\n",
              "      <td>3.311314e-03</td>\n",
              "      <td>2.467622e+02</td>\n",
              "      <td>-8.278635e+00</td>\n",
              "      <td>2.398833e-01</td>\n",
              "    </tr>\n",
              "    <tr>\n",
              "      <th>max</th>\n",
              "      <td>9.000000e+01</td>\n",
              "      <td>3.575000e+02</td>\n",
              "      <td>8.620000e+02</td>\n",
              "      <td>4.066384e-06</td>\n",
              "      <td>7.329976e-03</td>\n",
              "      <td>2.540453e+02</td>\n",
              "      <td>-7.109847e+00</td>\n",
              "      <td>2.926009e-01</td>\n",
              "    </tr>\n",
              "  </tbody>\n",
              "</table>\n",
              "</div>"
            ],
            "text/plain": [
              "var_names           lat           lon  ...     PRECT_NEW       QBP_NEW\n",
              "count      8.121856e+06  8.121856e+06  ...  8.121856e+06  8.121856e+06\n",
              "mean      -3.104719e+00  1.830262e+02  ... -8.212408e+00  1.943668e-01\n",
              "std        5.648257e+01  1.007385e+02  ...  5.035992e-01  5.522918e-02\n",
              "min       -9.000000e+01  0.000000e+00  ... -9.892826e+00  5.941506e-02\n",
              "25%       -5.400000e+01  1.000000e+02  ... -8.765312e+00  1.676750e-01\n",
              "50%       -6.631579e+00  1.850000e+02  ... -8.514510e+00  1.983388e-01\n",
              "75%        5.021053e+01  2.675000e+02  ... -8.278635e+00  2.398833e-01\n",
              "max        9.000000e+01  3.575000e+02  ... -7.109847e+00  2.926009e-01\n",
              "\n",
              "[8 rows x 8 columns]"
            ]
          },
          "metadata": {
            "tags": []
          },
          "execution_count": 28
        }
      ]
    },
    {
      "cell_type": "code",
      "metadata": {
        "id": "Ih35Dct7q-m1",
        "colab_type": "code",
        "outputId": "1137c007-1d1f-4df4-8208-bf5f8d17aba6",
        "colab": {
          "base_uri": "https://localhost:8080/",
          "height": 134
        }
      },
      "source": [
        "data=np.array(d_non_zero[['PRECT_NEW','QBP_NEW','TBP']])\n",
        "data"
      ],
      "execution_count": 19,
      "outputs": [
        {
          "output_type": "execute_result",
          "data": {
            "text/plain": [
              "array([[-8.7882309e+00,  8.3412252e-02,  2.0683391e+02],\n",
              "       [-8.7889423e+00,  8.3439901e-02,  2.0683858e+02],\n",
              "       [-8.7895212e+00,  8.3467156e-02,  2.0684254e+02],\n",
              "       ...,\n",
              "       [-8.4469862e+00,  1.9015445e-01,  2.4412932e+02],\n",
              "       [-8.4513035e+00,  1.9010726e-01,  2.4412459e+02],\n",
              "       [-8.4819250e+00,  1.9006240e-01,  2.4412044e+02]], dtype=float32)"
            ]
          },
          "metadata": {
            "tags": []
          },
          "execution_count": 19
        }
      ]
    },
    {
      "cell_type": "markdown",
      "metadata": {
        "id": "9p0uShRqq6rw",
        "colab_type": "text"
      },
      "source": [
        "Data Loader"
      ]
    },
    {
      "cell_type": "code",
      "metadata": {
        "id": "mn3gZNyon2zv",
        "colab_type": "code",
        "outputId": "31e726da-1df9-4908-ee70-e35e536758fe",
        "colab": {
          "base_uri": "https://localhost:8080/",
          "height": 34
        }
      },
      "source": [
        "data_loader = torch.utils.data.DataLoader(data, batch_size=1024, shuffle=False)\n",
        "# Num batches\n",
        "num_batches = len(data_loader)\n",
        "num_batches"
      ],
      "execution_count": 20,
      "outputs": [
        {
          "output_type": "execute_result",
          "data": {
            "text/plain": [
              "7932"
            ]
          },
          "metadata": {
            "tags": []
          },
          "execution_count": 20
        }
      ]
    },
    {
      "cell_type": "code",
      "metadata": {
        "id": "HlaJD6s2rOFK",
        "colab_type": "code",
        "colab": {}
      },
      "source": [
        "class DiscriminatorNet(torch.nn.Module):\n",
        "    def __init__(self):\n",
        "        super(DiscriminatorNet, self).__init__()\n",
        "        n_features = 3\n",
        "        n_out = 1\n",
        "        \n",
        "        self.hidden0 = nn.Sequential( \n",
        "            nn.Linear(n_features, 1024),\n",
        "            nn.LeakyReLU(0.2),\n",
        "  \n",
        "        )\n",
        "        self.hidden1 = nn.Sequential(\n",
        "            nn.Linear(1024, 512),\n",
        "            nn.LeakyReLU(0.2),\n",
        "            \n",
        "        )\n",
        "        self.hidden2 = nn.Sequential(\n",
        "            nn.Linear(512, 256),\n",
        "            nn.LeakyReLU(0.2),\n",
        "            nn.Dropout(0.3)\n",
        "        )\n",
        "        self.out = nn.Sequential(\n",
        "            torch.nn.Linear(256, n_out),\n",
        "            torch.nn.Sigmoid()\n",
        "        )\n",
        "\n",
        "    def forward(self, x):\n",
        "        x = self.hidden0(x.cuda())\n",
        "        x = self.hidden1(x)\n",
        "        x = self.hidden2(x)\n",
        "        x = self.out(x)\n",
        "        return x\n",
        "discriminator = DiscriminatorNet()"
      ],
      "execution_count": 0,
      "outputs": []
    },
    {
      "cell_type": "code",
      "metadata": {
        "id": "UWbvwh9fsdn6",
        "colab_type": "code",
        "colab": {}
      },
      "source": [
        "class GeneratorNet(torch.nn.Module):\n",
        "    def __init__(self):\n",
        "        super(GeneratorNet, self).__init__()\n",
        "        n_features = 100\n",
        "        n_out = 3\n",
        "        \n",
        "        self.hidden0 = nn.Sequential( \n",
        "            nn.Linear(n_features, 256),\n",
        "            nn.ReLU(),\n",
        "  \n",
        "        )\n",
        "        self.hidden1 = nn.Sequential(\n",
        "            nn.Linear(256, 512),\n",
        "            nn.ReLU(),\n",
        "            \n",
        "        )\n",
        "        self.hidden2 = nn.Sequential(\n",
        "            nn.Linear(512, 1024),\n",
        "            nn.ReLU(),\n",
        "            nn.Dropout(0.3)\n",
        "        )\n",
        "\n",
        "        # self.last_in1 = nn.Linear(1024, 1)\n",
        "        # self.last_in2 = nn.Linear(1024, 1)\n",
        "        self.last_in3 = nn.Linear(1024, 1)\n",
        "        self.last_in4 = nn.Linear(1024, 2)\n",
        "        self.act4 = nn.ReLU()\n",
        "\n",
        "\n",
        "    def forward(self, x):\n",
        "        x = self.hidden0(x.cuda())\n",
        "        x = self.hidden1(x)\n",
        "        x = self.hidden2(x)\n",
        "        # x1 = self.last_in1(x)\n",
        "        # x1 = mapping_to_target_range(x1, -90.0, 90.0)\n",
        "\n",
        "        # x2 = self.last_in2(x)\n",
        "        # x2 = mapping_to_target_range(x2, -180.0, 180.0)\n",
        "       \n",
        "        x3 = self.last_in3(x)\n",
        "\n",
        "        x4 = self.last_in4(x)\n",
        "        # x4 = self.act4(x4)\n",
        "\n",
        "        x = torch.cat([x3,x4],1)\n",
        "        # x = torch.cat([x1,x2,x3,x4],1)\n",
        "        # x = self.out(x)\n",
        "        return x\n",
        "generator = GeneratorNet()"
      ],
      "execution_count": 0,
      "outputs": []
    },
    {
      "cell_type": "code",
      "metadata": {
        "id": "Ak_1jFIqQQZ-",
        "colab_type": "code",
        "colab": {}
      },
      "source": [
        "def mapping_to_target_range(x, target_min, target_max) :\n",
        "  x02 = torch.tanh(x) + 1 # x in range(0,2)\n",
        "  scale = ( target_max-target_min )/2.\n",
        "  return  x02 * scale + target_min"
      ],
      "execution_count": 0,
      "outputs": []
    },
    {
      "cell_type": "code",
      "metadata": {
        "id": "H1JK8zzbwtxm",
        "colab_type": "code",
        "colab": {}
      },
      "source": [
        "use_cuda=True\n",
        "if use_cuda and torch.cuda.is_available():\n",
        "    discriminator.cuda()\n",
        "    generator.cuda()"
      ],
      "execution_count": 0,
      "outputs": []
    },
    {
      "cell_type": "code",
      "metadata": {
        "id": "xfxxaHj6s_Xy",
        "colab_type": "code",
        "colab": {}
      },
      "source": [
        "def noise(size):\n",
        "    '''\n",
        "    Generates a 1-d vector of gaussian sampled random values\n",
        "    '''\n",
        "    n = Variable(torch.randn(size, 100))\n",
        "    n.cuda()\n",
        "    return n"
      ],
      "execution_count": 0,
      "outputs": []
    },
    {
      "cell_type": "markdown",
      "metadata": {
        "id": "Vq1kmEMEfL9q",
        "colab_type": "text"
      },
      "source": [
        "We experimented with two different kinds of optimizers to see if it led to better results for the generator."
      ]
    },
    {
      "cell_type": "code",
      "metadata": {
        "id": "H-l-W9ONtEQw",
        "colab_type": "code",
        "colab": {}
      },
      "source": [
        "d_optimizer = optim.SGD(discriminator.parameters(), lr=0.0004, momentum=0.8)\n",
        "g_optimizer = optim.Adam(generator.parameters(), lr=0.0001)"
      ],
      "execution_count": 0,
      "outputs": []
    },
    {
      "cell_type": "code",
      "metadata": {
        "id": "iD2ShBkQtGYc",
        "colab_type": "code",
        "colab": {}
      },
      "source": [
        "loss = nn.BCELoss()"
      ],
      "execution_count": 0,
      "outputs": []
    },
    {
      "cell_type": "code",
      "metadata": {
        "id": "ypAAnOIYybvk",
        "colab_type": "code",
        "outputId": "ddaaff37-db82-4990-d6db-e1962f74716f",
        "colab": {
          "base_uri": "https://localhost:8080/",
          "height": 34
        }
      },
      "source": [
        "torch.cuda.is_available()"
      ],
      "execution_count": 28,
      "outputs": [
        {
          "output_type": "execute_result",
          "data": {
            "text/plain": [
              "True"
            ]
          },
          "metadata": {
            "tags": []
          },
          "execution_count": 28
        }
      ]
    },
    {
      "cell_type": "code",
      "metadata": {
        "id": "PWXau-AKtIPc",
        "colab_type": "code",
        "colab": {}
      },
      "source": [
        "def train_discriminator(optimizer, data, labels):\n",
        "    N = real_data.size(0)\n",
        "    # Reset gradients\n",
        "    optimizer.zero_grad()\n",
        "    \n",
        "    # 1.1 Train on Real Data\n",
        "    prediction = discriminator(data)\n",
        "    prediction.cuda()\n",
        "    \n",
        "    labels=labels.cuda()\n",
        "\n",
        "    error_total = loss(prediction, labels)\n",
        "    error_total.backward()\n",
        "\n",
        "    optimizer.step()\n",
        "    \n",
        "    # Return error and predictions for real and fake inputs\n",
        "    return error_total, prediction"
      ],
      "execution_count": 0,
      "outputs": []
    },
    {
      "cell_type": "code",
      "metadata": {
        "id": "LE6ASu6Vf2WO",
        "colab_type": "code",
        "colab": {}
      },
      "source": [
        "def train_generator(optimizer, fake_data, labels):\n",
        "    N = fake_data.size(0)\n",
        "    # Reset gradients\n",
        "    optimizer.zero_grad()\n",
        "\n",
        "    #y_gen = np.ones(N)\n",
        "\n",
        "    # Sample noise and generate fake data\n",
        "    prediction = discriminator(fake_data)\n",
        "    prediction.cuda()\n",
        "\n",
        "    labels=labels.cuda()\n",
        "\n",
        "    # Calculate error and backpropagate\n",
        "    error = loss(prediction, labels)\n",
        "\n",
        "    error.backward()\n",
        "    # Update weights with gradients\n",
        "    optimizer.step()\n",
        "    # Return error\n",
        "    return error"
      ],
      "execution_count": 0,
      "outputs": []
    },
    {
      "cell_type": "code",
      "metadata": {
        "id": "ZIRPghZ5HjZe",
        "colab_type": "code",
        "colab": {}
      },
      "source": [
        "drive_root = \"/content/drive/My Drive/Capstone Project/GAN-Capstone/\"\n",
        "checkpoint_dir = os.path.join(drive_root, \"checkpoints\")\n",
        "# your name here\n",
        "checkpoint_dir = os.path.join(checkpoint_dir, \"hrishi\")"
      ],
      "execution_count": 0,
      "outputs": []
    },
    {
      "cell_type": "code",
      "metadata": {
        "id": "ssW5VqahHnkM",
        "colab_type": "code",
        "outputId": "a5c6af5a-ea00-426d-c601-a9d23bb73f41",
        "colab": {
          "base_uri": "https://localhost:8080/",
          "height": 50
        }
      },
      "source": [
        "print(\"Checkpoints directory is\", checkpoint_dir)\n",
        "if os.path.exists(checkpoint_dir):\n",
        "  print(\"Checkpoints folder already exists\")\n",
        "else:\n",
        "  print(\"Creating a checkpoints directory\")\n",
        "  os.makedirs(checkpoint_dir)"
      ],
      "execution_count": 32,
      "outputs": [
        {
          "output_type": "stream",
          "text": [
            "Checkpoints directory is /content/drive/My Drive/Capstone Project/GAN-Capstone/checkpoints/hrishi\n",
            "Checkpoints folder already exists\n"
          ],
          "name": "stdout"
        }
      ]
    },
    {
      "cell_type": "code",
      "metadata": {
        "id": "K83t3piJy9bF",
        "colab_type": "code",
        "colab": {}
      },
      "source": [
        "#!rm -r /content/drive/My\\ Drive/Capstone\\ Project/GAN-Capstone/checkpoints/hrishi"
      ],
      "execution_count": 0,
      "outputs": []
    },
    {
      "cell_type": "code",
      "metadata": {
        "id": "pty4cPoqHt2O",
        "colab_type": "code",
        "outputId": "db391114-45b3-43dc-f8d3-6c8f91acfa4c",
        "colab": {
          "base_uri": "https://localhost:8080/",
          "height": 50
        }
      },
      "source": [
        "chkpts = os.listdir(checkpoint_dir)\n",
        "if chkpts:\n",
        "  latest = chkpts[0]\n",
        "  print(latest)\n",
        "  saved = torch.load(checkpoint_dir+'/'+latest)\n",
        "  generator.load_state_dict(saved['gen_state_dict'])\n",
        "  discriminator.load_state_dict(saved['disc_state_dict'])\n",
        "  g_optimizer.load_state_dict(saved['gen_optimizer_state_dict'])\n",
        "  d_optimizer.load_state_dict(saved['disc_optimizer_state_dict'])\n",
        "  current_epoch = saved['epoch']+1\n",
        "  g_error = saved['gen_loss']\n",
        "  d_error = saved['disc_loss']\n",
        "else:\n",
        "  current_epoch = 0\n",
        "\n",
        "current_epoch"
      ],
      "execution_count": 33,
      "outputs": [
        {
          "output_type": "stream",
          "text": [
            "checkpoint.pt\n"
          ],
          "name": "stdout"
        },
        {
          "output_type": "execute_result",
          "data": {
            "text/plain": [
              "98"
            ]
          },
          "metadata": {
            "tags": []
          },
          "execution_count": 33
        }
      ]
    },
    {
      "cell_type": "code",
      "metadata": {
        "id": "1VwrV6XZ66nZ",
        "colab_type": "code",
        "colab": {}
      },
      "source": [
        "dtype = torch.cuda.FloatTensor"
      ],
      "execution_count": 0,
      "outputs": []
    },
    {
      "cell_type": "code",
      "metadata": {
        "id": "9jcRsDpmdSyr",
        "colab_type": "code",
        "outputId": "12739de6-d7dc-4e15-c99d-c07e8b3fa799",
        "colab": {
          "base_uri": "https://localhost:8080/",
          "height": 484
        }
      },
      "source": [
        "\n",
        "num_epochs = 100\n",
        "\n",
        "for epoch in range(current_epoch,num_epochs):\n",
        "  results = pd.DataFrame(columns=['Prect','QBP','TBP'])\n",
        "  for n_batch,real_batch in enumerate(data_loader):\n",
        "    N = real_batch.size(0)\n",
        "    \n",
        "    # 1. Train Discriminator\n",
        "    real_data = real_batch\n",
        "    real_data.cuda()\n",
        "    \n",
        "    # Generate fake data and detach \n",
        "    # (so gradients are not calculated for generator)\n",
        "    noi=noise(N)\n",
        "    noi.cuda()\n",
        "\n",
        "    fake_data = generator(noi).detach()\n",
        "    fake_data.cuda()\n",
        "\n",
        "    #Generate real data and label it as 1, Train on real data\n",
        "    X1= np.array(real_data)\n",
        "    X1_torch = Variable(torch.from_numpy(X1).float())\n",
        "    X1_torch.cuda()\n",
        "\n",
        "    y_dis_1=np.ones(N)\n",
        "    y_torch_1 = Variable(torch.from_numpy(y_dis_1).float())\n",
        "    y_torch_1.cuda()\n",
        "    \n",
        "    d_error_1, d_pred_1 = train_discriminator(d_optimizer, X1_torch ,y_torch_1)\n",
        "    \n",
        "    # Label Fake data as 0, train on fake data\n",
        "    fake_data_temp=fake_data.cpu()\n",
        "    X2= np.array(fake_data_temp)\n",
        "    X2_torch = Variable(torch.from_numpy(X2).float())\n",
        "    X2_torch.cuda()\n",
        "\n",
        "    y_dis_2=np.zeros(N)\n",
        "    y_dis_2[:N]=0\n",
        "    y_torch_2 = Variable(torch.from_numpy(y_dis_2).float())\n",
        "    y_torch_2.cuda()\n",
        "\n",
        "    d_error_2, d_pred_2 = train_discriminator(d_optimizer, X2_torch ,y_torch_2)\n",
        "\n",
        "    #Add real and fake errors\n",
        "    d_error=d_error_1+d_error_2\n",
        "    \n",
        "\n",
        "    # 2. Train Generator\n",
        "    fake_data = generator(noise(N))\n",
        "  \n",
        "    fake_data.cuda()\n",
        "    \n",
        "    y_gen = np.ones(N)\n",
        "    y_torch_gen = Variable(torch.from_numpy(y_gen).float())\n",
        "    y_torch_gen.cuda()\n",
        "\n",
        "    g_error = train_generator(g_optimizer, fake_data, y_torch_gen)\n",
        "    \n",
        "\n",
        "    if (n_batch) % 100 == 0: \n",
        "      #Print results for every 100 epochs\n",
        "      print('Epoch: {},\\nDiscriminator Loss: {},\\nGenerator Loss: {},\\nGenerated Data: {}'.format(epoch+1,\n",
        "                                                                                               d_error.cpu().detach().numpy(),\n",
        "                                                                                               g_error.cpu().detach().numpy(),\n",
        "                                                                                               fake_data[0].cpu().detach().numpy()))\n",
        "\n",
        "\n",
        "    results = results.append(pd.DataFrame(fake_data.tolist(), columns=results.columns))\n",
        "\n",
        "  checkpoint_path = os.path.join(checkpoint_dir, 'checkpoint.pt')\n",
        "\n",
        "  torch.save({'epoch': epoch,\n",
        "              'gen_state_dict': generator.state_dict(),\n",
        "              'disc_state_dict': discriminator.state_dict(),\n",
        "              'gen_optimizer_state_dict': g_optimizer.state_dict(),\n",
        "              'disc_optimizer_state_dict': d_optimizer.state_dict(),\n",
        "              'gen_loss': g_error,\n",
        "              'disc_loss': d_error,},\n",
        "             checkpoint_path)\n",
        "  \n",
        "  pickle.dump(results, open('results_diff_optim_hrishi.pkl', 'wb'))\n",
        "  print('Saved model at ', checkpoint_path)"
      ],
      "execution_count": 36,
      "outputs": [
        {
          "output_type": "stream",
          "text": [
            "/usr/local/lib/python3.6/dist-packages/torch/nn/modules/loss.py:498: UserWarning: Using a target size (torch.Size([1024])) that is different to the input size (torch.Size([1024, 1])) is deprecated. Please ensure they have the same size.\n",
            "  return F.binary_cross_entropy(input, target, weight=self.weight, reduction=self.reduction)\n"
          ],
          "name": "stderr"
        },
        {
          "output_type": "stream",
          "text": [
            "Epoch: 99,\n",
            "Discriminator Loss: 1.554532527923584,\n",
            "Generator Loss: 0.6800926327705383,\n",
            "Generated Data: [ -7.6588445   0.315098  224.13672  ]\n",
            "Epoch: 99,\n",
            "Discriminator Loss: 1.3775055408477783,\n",
            "Generator Loss: 0.7386147379875183,\n",
            "Generated Data: [ -6.999325     0.28966463 187.53569   ]\n",
            "Epoch: 99,\n",
            "Discriminator Loss: 1.3679182529449463,\n",
            "Generator Loss: 0.6643720865249634,\n",
            "Generated Data: [-7.3572702e+00  1.6724841e-01  1.8196181e+02]\n"
          ],
          "name": "stdout"
        },
        {
          "output_type": "error",
          "ename": "KeyboardInterrupt",
          "evalue": "ignored",
          "traceback": [
            "\u001b[0;31m---------------------------------------------------------------------------\u001b[0m",
            "\u001b[0;31mKeyboardInterrupt\u001b[0m                         Traceback (most recent call last)",
            "\u001b[0;32m<ipython-input-36-d6f2638eeffc>\u001b[0m in \u001b[0;36m<module>\u001b[0;34m()\u001b[0m\n\u001b[1;32m     72\u001b[0m \u001b[0;34m\u001b[0m\u001b[0m\n\u001b[1;32m     73\u001b[0m \u001b[0;34m\u001b[0m\u001b[0m\n\u001b[0;32m---> 74\u001b[0;31m     \u001b[0mresults\u001b[0m \u001b[0;34m=\u001b[0m \u001b[0mresults\u001b[0m\u001b[0;34m.\u001b[0m\u001b[0mappend\u001b[0m\u001b[0;34m(\u001b[0m\u001b[0mpd\u001b[0m\u001b[0;34m.\u001b[0m\u001b[0mDataFrame\u001b[0m\u001b[0;34m(\u001b[0m\u001b[0mfake_data\u001b[0m\u001b[0;34m.\u001b[0m\u001b[0mtolist\u001b[0m\u001b[0;34m(\u001b[0m\u001b[0;34m)\u001b[0m\u001b[0;34m,\u001b[0m \u001b[0mcolumns\u001b[0m\u001b[0;34m=\u001b[0m\u001b[0mresults\u001b[0m\u001b[0;34m.\u001b[0m\u001b[0mcolumns\u001b[0m\u001b[0;34m)\u001b[0m\u001b[0;34m)\u001b[0m\u001b[0;34m\u001b[0m\u001b[0;34m\u001b[0m\u001b[0m\n\u001b[0m\u001b[1;32m     75\u001b[0m \u001b[0;34m\u001b[0m\u001b[0m\n\u001b[1;32m     76\u001b[0m   \u001b[0mcheckpoint_path\u001b[0m \u001b[0;34m=\u001b[0m \u001b[0mos\u001b[0m\u001b[0;34m.\u001b[0m\u001b[0mpath\u001b[0m\u001b[0;34m.\u001b[0m\u001b[0mjoin\u001b[0m\u001b[0;34m(\u001b[0m\u001b[0mcheckpoint_dir\u001b[0m\u001b[0;34m,\u001b[0m \u001b[0;34m'checkpoint.pt'\u001b[0m\u001b[0;34m)\u001b[0m\u001b[0;34m\u001b[0m\u001b[0;34m\u001b[0m\u001b[0m\n",
            "\u001b[0;31mKeyboardInterrupt\u001b[0m: "
          ]
        }
      ]
    },
    {
      "cell_type": "code",
      "metadata": {
        "id": "c4vRE_QmVR0Y",
        "colab_type": "code",
        "colab": {}
      },
      "source": [
        "results = pickle.load(open('results_diff_optim_hrishi.pkl', 'rb'))"
      ],
      "execution_count": 0,
      "outputs": []
    },
    {
      "cell_type": "code",
      "metadata": {
        "id": "nUFTJv73DufN",
        "colab_type": "code",
        "outputId": "1bcfddb8-4fbd-4dd2-927d-3d67a250b565",
        "colab": {
          "base_uri": "https://localhost:8080/",
          "height": 296
        }
      },
      "source": [
        "plt.hist(results['Prect'], density=True, bins=20)\n",
        "plt.xlabel('Predicted PRECT')\n",
        "plt.ylabel('Density')"
      ],
      "execution_count": 0,
      "outputs": [
        {
          "output_type": "execute_result",
          "data": {
            "text/plain": [
              "Text(0, 0.5, 'Density')"
            ]
          },
          "metadata": {
            "tags": []
          },
          "execution_count": 12
        },
        {
          "output_type": "display_data",
          "data": {
            "image/png": "[encoded data removed]",
            "text/plain": [
              "<Figure size 432x288 with 1 Axes>"
            ]
          },
          "metadata": {
            "tags": []
          }
        }
      ]
    },
    {
      "cell_type": "code",
      "metadata": {
        "id": "HTJXQ4brVieA",
        "colab_type": "code",
        "outputId": "2bb73aeb-b025-4e07-9042-e8055b58fe3f",
        "colab": {
          "base_uri": "https://localhost:8080/",
          "height": 34
        }
      },
      "source": [
        "len(results.Prect.unique())"
      ],
      "execution_count": 0,
      "outputs": [
        {
          "output_type": "execute_result",
          "data": {
            "text/plain": [
              "3854153"
            ]
          },
          "metadata": {
            "tags": []
          },
          "execution_count": 61
        }
      ]
    },
    {
      "cell_type": "code",
      "metadata": {
        "id": "UtRhMrZBV3Nl",
        "colab_type": "code",
        "outputId": "16e533dc-b2f0-444c-f1dc-592826c1a7e7",
        "colab": {
          "base_uri": "https://localhost:8080/",
          "height": 34
        }
      },
      "source": [
        "len(results.QBP.unique())"
      ],
      "execution_count": 0,
      "outputs": [
        {
          "output_type": "execute_result",
          "data": {
            "text/plain": [
              "7334953"
            ]
          },
          "metadata": {
            "tags": []
          },
          "execution_count": 62
        }
      ]
    },
    {
      "cell_type": "code",
      "metadata": {
        "id": "QFsI9xu1r9_n",
        "colab_type": "code",
        "outputId": "9f0139e7-ff26-43d7-8c1c-018a35db0b7e",
        "colab": {
          "base_uri": "https://localhost:8080/",
          "height": 297
        }
      },
      "source": [
        "results.describe()"
      ],
      "execution_count": 0,
      "outputs": [
        {
          "output_type": "execute_result",
          "data": {
            "text/html": [
              "<div>\n",
              "<style scoped>\n",
              "    .dataframe tbody tr th:only-of-type {\n",
              "        vertical-align: middle;\n",
              "    }\n",
              "\n",
              "    .dataframe tbody tr th {\n",
              "        vertical-align: top;\n",
              "    }\n",
              "\n",
              "    .dataframe thead th {\n",
              "        text-align: right;\n",
              "    }\n",
              "</style>\n",
              "<table border=\"1\" class=\"dataframe\">\n",
              "  <thead>\n",
              "    <tr style=\"text-align: right;\">\n",
              "      <th></th>\n",
              "      <th>Prect</th>\n",
              "      <th>QBP</th>\n",
              "      <th>TBP</th>\n",
              "    </tr>\n",
              "  </thead>\n",
              "  <tbody>\n",
              "    <tr>\n",
              "      <th>count</th>\n",
              "      <td>8.121856e+06</td>\n",
              "      <td>8.121856e+06</td>\n",
              "      <td>8.121856e+06</td>\n",
              "    </tr>\n",
              "    <tr>\n",
              "      <th>mean</th>\n",
              "      <td>-8.520423e+00</td>\n",
              "      <td>1.818184e-01</td>\n",
              "      <td>2.384664e+02</td>\n",
              "    </tr>\n",
              "    <tr>\n",
              "      <th>std</th>\n",
              "      <td>9.379509e-01</td>\n",
              "      <td>2.494211e-01</td>\n",
              "      <td>3.022994e+01</td>\n",
              "    </tr>\n",
              "    <tr>\n",
              "      <th>min</th>\n",
              "      <td>-1.688303e+01</td>\n",
              "      <td>-5.256616e+00</td>\n",
              "      <td>5.931293e+01</td>\n",
              "    </tr>\n",
              "    <tr>\n",
              "      <th>25%</th>\n",
              "      <td>-9.147478e+00</td>\n",
              "      <td>6.704626e-02</td>\n",
              "      <td>2.178647e+02</td>\n",
              "    </tr>\n",
              "    <tr>\n",
              "      <th>50%</th>\n",
              "      <td>-8.497784e+00</td>\n",
              "      <td>1.993461e-01</td>\n",
              "      <td>2.392970e+02</td>\n",
              "    </tr>\n",
              "    <tr>\n",
              "      <th>75%</th>\n",
              "      <td>-7.872310e+00</td>\n",
              "      <td>3.229556e-01</td>\n",
              "      <td>2.595291e+02</td>\n",
              "    </tr>\n",
              "    <tr>\n",
              "      <th>max</th>\n",
              "      <td>-2.629944e+00</td>\n",
              "      <td>1.735109e+00</td>\n",
              "      <td>4.774305e+02</td>\n",
              "    </tr>\n",
              "  </tbody>\n",
              "</table>\n",
              "</div>"
            ],
            "text/plain": [
              "              Prect           QBP           TBP\n",
              "count  8.121856e+06  8.121856e+06  8.121856e+06\n",
              "mean  -8.520423e+00  1.818184e-01  2.384664e+02\n",
              "std    9.379509e-01  2.494211e-01  3.022994e+01\n",
              "min   -1.688303e+01 -5.256616e+00  5.931293e+01\n",
              "25%   -9.147478e+00  6.704626e-02  2.178647e+02\n",
              "50%   -8.497784e+00  1.993461e-01  2.392970e+02\n",
              "75%   -7.872310e+00  3.229556e-01  2.595291e+02\n",
              "max   -2.629944e+00  1.735109e+00  4.774305e+02"
            ]
          },
          "metadata": {
            "tags": []
          },
          "execution_count": 63
        }
      ]
    },
    {
      "cell_type": "code",
      "metadata": {
        "id": "c5-uqlgllzml",
        "colab_type": "code",
        "colab": {}
      },
      "source": [
        "q = results.QBP**4 #s.inv_boxcox(results.QBP,0.4)\n",
        "p = s.inv_boxcox(results.Prect, 0.1)"
      ],
      "execution_count": 0,
      "outputs": []
    },
    {
      "cell_type": "code",
      "metadata": {
        "id": "kQ-CxkqDV73H",
        "colab_type": "code",
        "outputId": "148e7ee9-91cf-4050-8aa7-42a915efb771",
        "colab": {
          "base_uri": "https://localhost:8080/",
          "height": 452
        }
      },
      "source": [
        "plt.hist((d_non_zero.PRECT_NEW), density=True, bins=20)"
      ],
      "execution_count": 0,
      "outputs": [
        {
          "output_type": "execute_result",
          "data": {
            "text/plain": [
              "(array([1.15029406e-04, 4.82946535e-03, 5.70276491e-02, 1.29337294e-01,\n",
              "        2.04175425e-01, 3.06355716e-01, 4.93892911e-01, 5.31465939e-01,\n",
              "        8.38895298e-01, 1.16390380e+00, 1.18346750e+00, 7.49755472e-01,\n",
              "        5.55807931e-01, 4.13698300e-01, 2.79700120e-01, 1.64426572e-01,\n",
              "        8.11665183e-02, 2.55090106e-02, 2.91465818e-03, 9.82174156e-05]),\n",
              " array([-9.892826 , -9.753677 , -9.614529 , -9.475379 , -9.33623  ,\n",
              "        -9.197082 , -9.057932 , -8.918783 , -8.779634 , -8.640486 ,\n",
              "        -8.501337 , -8.362187 , -8.223039 , -8.08389  , -7.944741 ,\n",
              "        -7.8055916, -7.666443 , -7.527294 , -7.388145 , -7.248996 ,\n",
              "        -7.109847 ], dtype=float32),\n",
              " <a list of 20 Patch objects>)"
            ]
          },
          "metadata": {
            "tags": []
          },
          "execution_count": 65
        },
        {
          "output_type": "display_data",
          "data": {
            "image/png": "[encoded data removed]",
            "text/plain": [
              "<Figure size 432x288 with 1 Axes>"
            ]
          },
          "metadata": {
            "tags": []
          }
        }
      ]
    },
    {
      "cell_type": "code",
      "metadata": {
        "id": "qKocLH-9OQ_B",
        "colab_type": "code",
        "outputId": "15ab2e52-621d-438e-ba56-a25e111ffd0c",
        "colab": {
          "base_uri": "https://localhost:8080/",
          "height": 419
        }
      },
      "source": [
        "ans = pd.concat([p.reset_index(drop=True),q.reset_index(drop=True)], axis=1)\n",
        "ans"
      ],
      "execution_count": 0,
      "outputs": [
        {
          "output_type": "execute_result",
          "data": {
            "text/html": [
              "<div>\n",
              "<style scoped>\n",
              "    .dataframe tbody tr th:only-of-type {\n",
              "        vertical-align: middle;\n",
              "    }\n",
              "\n",
              "    .dataframe tbody tr th {\n",
              "        vertical-align: top;\n",
              "    }\n",
              "\n",
              "    .dataframe thead th {\n",
              "        text-align: right;\n",
              "    }\n",
              "</style>\n",
              "<table border=\"1\" class=\"dataframe\">\n",
              "  <thead>\n",
              "    <tr style=\"text-align: right;\">\n",
              "      <th></th>\n",
              "      <th>Prect</th>\n",
              "      <th>QBP</th>\n",
              "    </tr>\n",
              "  </thead>\n",
              "  <tbody>\n",
              "    <tr>\n",
              "      <th>0</th>\n",
              "      <td>1.465472e-06</td>\n",
              "      <td>0.000856</td>\n",
              "    </tr>\n",
              "    <tr>\n",
              "      <th>1</th>\n",
              "      <td>3.214526e-15</td>\n",
              "      <td>0.001864</td>\n",
              "    </tr>\n",
              "    <tr>\n",
              "      <th>2</th>\n",
              "      <td>4.788991e-08</td>\n",
              "      <td>0.000500</td>\n",
              "    </tr>\n",
              "    <tr>\n",
              "      <th>3</th>\n",
              "      <td>3.127903e-09</td>\n",
              "      <td>0.002209</td>\n",
              "    </tr>\n",
              "    <tr>\n",
              "      <th>4</th>\n",
              "      <td>2.029332e-09</td>\n",
              "      <td>0.002363</td>\n",
              "    </tr>\n",
              "    <tr>\n",
              "      <th>...</th>\n",
              "      <td>...</td>\n",
              "      <td>...</td>\n",
              "    </tr>\n",
              "    <tr>\n",
              "      <th>8121851</th>\n",
              "      <td>7.230432e-17</td>\n",
              "      <td>0.000810</td>\n",
              "    </tr>\n",
              "    <tr>\n",
              "      <th>8121852</th>\n",
              "      <td>2.066362e-06</td>\n",
              "      <td>0.002317</td>\n",
              "    </tr>\n",
              "    <tr>\n",
              "      <th>8121853</th>\n",
              "      <td>9.306246e-09</td>\n",
              "      <td>0.009734</td>\n",
              "    </tr>\n",
              "    <tr>\n",
              "      <th>8121854</th>\n",
              "      <td>5.063294e-12</td>\n",
              "      <td>0.007125</td>\n",
              "    </tr>\n",
              "    <tr>\n",
              "      <th>8121855</th>\n",
              "      <td>5.587326e-12</td>\n",
              "      <td>0.015894</td>\n",
              "    </tr>\n",
              "  </tbody>\n",
              "</table>\n",
              "<p>8121856 rows × 2 columns</p>\n",
              "</div>"
            ],
            "text/plain": [
              "                Prect       QBP\n",
              "0        1.465472e-06  0.000856\n",
              "1        3.214526e-15  0.001864\n",
              "2        4.788991e-08  0.000500\n",
              "3        3.127903e-09  0.002209\n",
              "4        2.029332e-09  0.002363\n",
              "...               ...       ...\n",
              "8121851  7.230432e-17  0.000810\n",
              "8121852  2.066362e-06  0.002317\n",
              "8121853  9.306246e-09  0.009734\n",
              "8121854  5.063294e-12  0.007125\n",
              "8121855  5.587326e-12  0.015894\n",
              "\n",
              "[8121856 rows x 2 columns]"
            ]
          },
          "metadata": {
            "tags": []
          },
          "execution_count": 66
        }
      ]
    },
    {
      "cell_type": "code",
      "metadata": {
        "id": "eVHNap8bOi76",
        "colab_type": "code",
        "outputId": "23b39425-a6e0-4745-f25c-7c623cf1f019",
        "colab": {
          "base_uri": "https://localhost:8080/",
          "height": 296
        }
      },
      "source": [
        "plt.scatter(ans.QBP, ans.Prect, alpha=0.2)\n",
        "plt.xlabel('QBP')\n",
        "plt.ylabel('PRECT')"
      ],
      "execution_count": 0,
      "outputs": [
        {
          "output_type": "execute_result",
          "data": {
            "text/plain": [
              "Text(0, 0.5, 'PRECT')"
            ]
          },
          "metadata": {
            "tags": []
          },
          "execution_count": 67
        },
        {
          "output_type": "display_data",
          "data": {
            "image/png": "[encoded data removed]",
            "text/plain": [
              "<Figure size 432x288 with 1 Axes>"
            ]
          },
          "metadata": {
            "tags": []
          }
        }
      ]
    },
    {
      "cell_type": "code",
      "metadata": {
        "id": "o63NypGnPDVD",
        "colab_type": "code",
        "outputId": "309aa89b-5f69-44fe-da08-a1922662b0ff",
        "colab": {
          "base_uri": "https://localhost:8080/",
          "height": 296
        }
      },
      "source": [
        "plt.scatter(ans.QBP, ans.Prect, alpha=0.2)\n",
        "plt.xlim(ans.QBP.min(), ans.QBP.max())\n",
        "plt.ylim(ans.Prect.min(), ans.Prect.max())\n",
        "plt.xlabel('QBP')\n",
        "plt.ylabel('PRECT')"
      ],
      "execution_count": 0,
      "outputs": [
        {
          "output_type": "execute_result",
          "data": {
            "text/plain": [
              "Text(0, 0.5, 'PRECT')"
            ]
          },
          "metadata": {
            "tags": []
          },
          "execution_count": 68
        },
        {
          "output_type": "display_data",
          "data": {
            "image/png": "[encoded data removed]",
            "text/plain": [
              "<Figure size 432x288 with 1 Axes>"
            ]
          },
          "metadata": {
            "tags": []
          }
        }
      ]
    },
    {
      "cell_type": "code",
      "metadata": {
        "id": "iMMid0KGPQO2",
        "colab_type": "code",
        "outputId": "1e344856-ac7e-4487-b7fa-fd9a983ca530",
        "colab": {
          "base_uri": "https://localhost:8080/",
          "height": 283
        }
      },
      "source": [
        "plt.scatter(ans.QBP, ans.Prect, alpha=0.2)\n",
        "plt.xlim(1.246195e-05, 7.329976e-03)\n",
        "plt.ylim(1.999409e-20, 4.066384e-06)"
      ],
      "execution_count": 0,
      "outputs": [
        {
          "output_type": "execute_result",
          "data": {
            "text/plain": [
              "(1.999409e-20, 4.066384e-06)"
            ]
          },
          "metadata": {
            "tags": []
          },
          "execution_count": 69
        },
        {
          "output_type": "display_data",
          "data": {
            "image/png": "[encoded data removed]",
            "text/plain": [
              "<Figure size 432x288 with 1 Axes>"
            ]
          },
          "metadata": {
            "tags": []
          }
        }
      ]
    },
    {
      "cell_type": "code",
      "metadata": {
        "id": "SQgUmIZ_QIjQ",
        "colab_type": "code",
        "outputId": "80a74861-4e29-4677-86e2-1f1fb33a8438",
        "colab": {
          "base_uri": "https://localhost:8080/",
          "height": 296
        }
      },
      "source": [
        "plt.scatter(results.TBP, ans.Prect, alpha=0.2)\n",
        "plt.xlim(results.TBP.min(), results.TBP.max())\n",
        "plt.ylim(ans.Prect.min(), ans.Prect.max())\n",
        "plt.xlabel('TBP')\n",
        "plt.ylabel('PRECT')"
      ],
      "execution_count": 0,
      "outputs": [
        {
          "output_type": "execute_result",
          "data": {
            "text/plain": [
              "Text(0, 0.5, 'PRECT')"
            ]
          },
          "metadata": {
            "tags": []
          },
          "execution_count": 70
        },
        {
          "output_type": "display_data",
          "data": {
            "image/png": "[encoded data removed]",
            "text/plain": [
              "<Figure size 432x288 with 1 Axes>"
            ]
          },
          "metadata": {
            "tags": []
          }
        }
      ]
    },
    {
      "cell_type": "code",
      "metadata": {
        "id": "e7yjK8PPQPag",
        "colab_type": "code",
        "outputId": "289b3459-2473-4341-e558-70899139607e",
        "colab": {
          "base_uri": "https://localhost:8080/",
          "height": 296
        }
      },
      "source": [
        "plt.hist(results['Prect'], density=True, bins=20)\n",
        "plt.xlabel('Predicted PRECT')\n",
        "plt.ylabel('Density')"
      ],
      "execution_count": 0,
      "outputs": [
        {
          "output_type": "execute_result",
          "data": {
            "text/plain": [
              "Text(0, 0.5, 'Density')"
            ]
          },
          "metadata": {
            "tags": []
          },
          "execution_count": 71
        },
        {
          "output_type": "display_data",
          "data": {
            "image/png": "[encoded data removed]",
            "text/plain": [
              "<Figure size 432x288 with 1 Axes>"
            ]
          },
          "metadata": {
            "tags": []
          }
        }
      ]
    },
    {
      "cell_type": "code",
      "metadata": {
        "id": "Oibqp4p8QPx9",
        "colab_type": "code",
        "outputId": "0acf7525-1de2-41bf-e4e9-f04d952bd9a1",
        "colab": {
          "base_uri": "https://localhost:8080/",
          "height": 296
        }
      },
      "source": [
        "plt.hist(results.QBP, density=True, bins=20)\n",
        "plt.xlabel('Predicted QBP')\n",
        "plt.ylabel('Density')"
      ],
      "execution_count": 0,
      "outputs": [
        {
          "output_type": "execute_result",
          "data": {
            "text/plain": [
              "Text(0, 0.5, 'Density')"
            ]
          },
          "metadata": {
            "tags": []
          },
          "execution_count": 72
        },
        {
          "output_type": "display_data",
          "data": {
            "image/png": "[encoded data removed]",
            "text/plain": [
              "<Figure size 432x288 with 1 Axes>"
            ]
          },
          "metadata": {
            "tags": []
          }
        }
      ]
    },
    {
      "cell_type": "code",
      "metadata": {
        "id": "Qqoc7vjaUDg_",
        "colab_type": "code",
        "outputId": "965e7b61-bcfc-4167-eb9a-ea6141fe3319",
        "colab": {
          "base_uri": "https://localhost:8080/",
          "height": 435
        }
      },
      "source": [
        "plt.hist(results[(results.Prect >= d_non_zero.PRECT_NEW.min()) & (results.Prect <= d_non_zero.PRECT_NEW.max())]['Prect'], density=True, bins=20)\n",
        "#plt.xlim(-10,-7)"
      ],
      "execution_count": 0,
      "outputs": [
        {
          "output_type": "execute_result",
          "data": {
            "text/plain": [
              "(array([0.1859831 , 0.22392221, 0.26433456, 0.30535676, 0.34579268,\n",
              "        0.38372564, 0.41839715, 0.44739958, 0.46886441, 0.48246161,\n",
              "        0.48850993, 0.48124293, 0.46599144, 0.4417387 , 0.40624106,\n",
              "        0.36613313, 0.32185973, 0.27498498, 0.22831624, 0.18529023]),\n",
              " array([-9.89282608, -9.75367718, -9.61452827, -9.47537937, -9.33623047,\n",
              "        -9.19708157, -9.05793266, -8.91878376, -8.77963486, -8.64048595,\n",
              "        -8.50133705, -8.36218815, -8.22303925, -8.08389034, -7.94474144,\n",
              "        -7.80559254, -7.66644363, -7.52729473, -7.38814583, -7.24899693,\n",
              "        -7.10984802]),\n",
              " <a list of 20 Patch objects>)"
            ]
          },
          "metadata": {
            "tags": []
          },
          "execution_count": 73
        },
        {
          "output_type": "display_data",
          "data": {
            "image/png": "[encoded data removed]",
            "text/plain": [
              "<Figure size 432x288 with 1 Axes>"
            ]
          },
          "metadata": {
            "tags": []
          }
        }
      ]
    },
    {
      "cell_type": "code",
      "metadata": {
        "id": "NBZCZc8AM_6S",
        "colab_type": "code",
        "colab": {}
      },
      "source": [
        "s.inv_boxcox(results.Prect, 0.1).describe()"
      ],
      "execution_count": 0,
      "outputs": []
    },
    {
      "cell_type": "code",
      "metadata": {
        "id": "zhQO3BusHMgm",
        "colab_type": "code",
        "colab": {}
      },
      "source": [
        " ans = pd.concat([p.reset_index(drop=True),q.reset_index(drop=True)], axis=1)"
      ],
      "execution_count": 0,
      "outputs": []
    },
    {
      "cell_type": "code",
      "metadata": {
        "id": "eFmrcfVbL3ky",
        "colab_type": "code",
        "outputId": "133024d0-b6f4-4f27-fb86-44cef7d4c638",
        "colab": {
          "base_uri": "https://localhost:8080/",
          "height": 296
        }
      },
      "source": [
        "plt.scatter(ans.QBP, ans.Prect, alpha=0.2)\n",
        "plt.xlabel('QBP')\n",
        "plt.ylabel('PRECT')"
      ],
      "execution_count": 0,
      "outputs": [
        {
          "output_type": "execute_result",
          "data": {
            "text/plain": [
              "Text(0, 0.5, 'PRECT')"
            ]
          },
          "metadata": {
            "tags": []
          },
          "execution_count": 61
        },
        {
          "output_type": "display_data",
          "data": {
            "image/png": "[encoded data removed]",
            "text/plain": [
              "<Figure size 432x288 with 1 Axes>"
            ]
          },
          "metadata": {
            "tags": []
          }
        }
      ]
    },
    {
      "cell_type": "code",
      "metadata": {
        "id": "_W65vV_2NCZo",
        "colab_type": "code",
        "outputId": "96ee4388-2197-47a2-9c3c-4730fe2eb09b",
        "colab": {
          "base_uri": "https://localhost:8080/",
          "height": 419
        }
      },
      "source": [
        "ans"
      ],
      "execution_count": 0,
      "outputs": [
        {
          "output_type": "execute_result",
          "data": {
            "text/html": [
              "<div>\n",
              "<style scoped>\n",
              "    .dataframe tbody tr th:only-of-type {\n",
              "        vertical-align: middle;\n",
              "    }\n",
              "\n",
              "    .dataframe tbody tr th {\n",
              "        vertical-align: top;\n",
              "    }\n",
              "\n",
              "    .dataframe thead th {\n",
              "        text-align: right;\n",
              "    }\n",
              "</style>\n",
              "<table border=\"1\" class=\"dataframe\">\n",
              "  <thead>\n",
              "    <tr style=\"text-align: right;\">\n",
              "      <th></th>\n",
              "      <th>Prect</th>\n",
              "      <th>QBP</th>\n",
              "    </tr>\n",
              "  </thead>\n",
              "  <tbody>\n",
              "    <tr>\n",
              "      <th>0</th>\n",
              "      <td>9.779580e-01</td>\n",
              "      <td>4.874758e-06</td>\n",
              "    </tr>\n",
              "    <tr>\n",
              "      <th>1</th>\n",
              "      <td>9.958283e-01</td>\n",
              "      <td>1.859595e-05</td>\n",
              "    </tr>\n",
              "    <tr>\n",
              "      <th>2</th>\n",
              "      <td>9.800503e-01</td>\n",
              "      <td>2.319214e-07</td>\n",
              "    </tr>\n",
              "    <tr>\n",
              "      <th>3</th>\n",
              "      <td>1.028489e+00</td>\n",
              "      <td>1.138767e-08</td>\n",
              "    </tr>\n",
              "    <tr>\n",
              "      <th>4</th>\n",
              "      <td>9.657900e-01</td>\n",
              "      <td>1.174204e-05</td>\n",
              "    </tr>\n",
              "    <tr>\n",
              "      <th>...</th>\n",
              "      <td>...</td>\n",
              "      <td>...</td>\n",
              "    </tr>\n",
              "    <tr>\n",
              "      <th>8121851</th>\n",
              "      <td>2.801349e-09</td>\n",
              "      <td>6.182879e-02</td>\n",
              "    </tr>\n",
              "    <tr>\n",
              "      <th>8121852</th>\n",
              "      <td>1.929005e-14</td>\n",
              "      <td>1.168423e-01</td>\n",
              "    </tr>\n",
              "    <tr>\n",
              "      <th>8121853</th>\n",
              "      <td>NaN</td>\n",
              "      <td>2.215347e+00</td>\n",
              "    </tr>\n",
              "    <tr>\n",
              "      <th>8121854</th>\n",
              "      <td>NaN</td>\n",
              "      <td>1.595336e-01</td>\n",
              "    </tr>\n",
              "    <tr>\n",
              "      <th>8121855</th>\n",
              "      <td>1.956379e-16</td>\n",
              "      <td>5.303193e-02</td>\n",
              "    </tr>\n",
              "  </tbody>\n",
              "</table>\n",
              "<p>8121856 rows × 2 columns</p>\n",
              "</div>"
            ],
            "text/plain": [
              "                Prect           QBP\n",
              "0        9.779580e-01  4.874758e-06\n",
              "1        9.958283e-01  1.859595e-05\n",
              "2        9.800503e-01  2.319214e-07\n",
              "3        1.028489e+00  1.138767e-08\n",
              "4        9.657900e-01  1.174204e-05\n",
              "...               ...           ...\n",
              "8121851  2.801349e-09  6.182879e-02\n",
              "8121852  1.929005e-14  1.168423e-01\n",
              "8121853           NaN  2.215347e+00\n",
              "8121854           NaN  1.595336e-01\n",
              "8121855  1.956379e-16  5.303193e-02\n",
              "\n",
              "[8121856 rows x 2 columns]"
            ]
          },
          "metadata": {
            "tags": []
          },
          "execution_count": 62
        }
      ]
    },
    {
      "cell_type": "code",
      "metadata": {
        "id": "BBdUmePOMieX",
        "colab_type": "code",
        "outputId": "a5f70717-e61b-43cf-afc2-7cabd436bfc3",
        "colab": {
          "base_uri": "https://localhost:8080/",
          "height": 296
        }
      },
      "source": [
        "plt.scatter(ans.QBP, ans.Prect, alpha=0.2)\n",
        "plt.xlim(ans.QBP.min(), ans.QBP.max())\n",
        "plt.ylim(ans.Prect.min(), ans.Prect.max())\n",
        "plt.xlabel('QBP')\n",
        "plt.ylabel('PRECT')"
      ],
      "execution_count": 0,
      "outputs": [
        {
          "output_type": "execute_result",
          "data": {
            "text/plain": [
              "Text(0, 0.5, 'PRECT')"
            ]
          },
          "metadata": {
            "tags": []
          },
          "execution_count": 63
        },
        {
          "output_type": "display_data",
          "data": {
            "image/png": "[encoded data removed]",
            "text/plain": [
              "<Figure size 432x288 with 1 Axes>"
            ]
          },
          "metadata": {
            "tags": []
          }
        }
      ]
    },
    {
      "cell_type": "code",
      "metadata": {
        "id": "E_bb61ZGNUIJ",
        "colab_type": "code",
        "colab": {}
      },
      "source": [
        "results = pickle.load(open('results_diff_optim_hrishi.pkl', 'rb'))"
      ],
      "execution_count": 0,
      "outputs": []
    },
    {
      "cell_type": "code",
      "metadata": {
        "id": "BuMG0B25ov-c",
        "colab_type": "code",
        "colab": {}
      },
      "source": [
        "p = s.inv_boxcox(results.Prect, 0.1)\n",
        "q = results.QBP**4"
      ],
      "execution_count": 0,
      "outputs": []
    },
    {
      "cell_type": "code",
      "metadata": {
        "id": "SvW0_Bqvo1TQ",
        "colab_type": "code",
        "colab": {}
      },
      "source": [
        "t = results.TBP"
      ],
      "execution_count": 0,
      "outputs": []
    },
    {
      "cell_type": "code",
      "metadata": {
        "id": "YJDH60VHo4JS",
        "colab_type": "code",
        "colab": {}
      },
      "source": [
        "ans = pd.concat([p.reset_index(drop=True),q.reset_index(drop=True), pd.Series(t.values)], axis=1)"
      ],
      "execution_count": 0,
      "outputs": []
    },
    {
      "cell_type": "code",
      "metadata": {
        "id": "tyXgLUjJo-MY",
        "colab_type": "code",
        "colab": {}
      },
      "source": [
        "ans.rename(columns = {0:'TBP'},inplace=True)"
      ],
      "execution_count": 0,
      "outputs": []
    },
    {
      "cell_type": "code",
      "metadata": {
        "id": "_Ze45loIo_le",
        "colab_type": "code",
        "outputId": "bb4af2f7-0809-46d9-c7a8-fba7aa7a9166",
        "colab": {
          "base_uri": "https://localhost:8080/",
          "height": 195
        }
      },
      "source": [
        "ans.head()"
      ],
      "execution_count": 61,
      "outputs": [
        {
          "output_type": "execute_result",
          "data": {
            "text/html": [
              "<div>\n",
              "<style scoped>\n",
              "    .dataframe tbody tr th:only-of-type {\n",
              "        vertical-align: middle;\n",
              "    }\n",
              "\n",
              "    .dataframe tbody tr th {\n",
              "        vertical-align: top;\n",
              "    }\n",
              "\n",
              "    .dataframe thead th {\n",
              "        text-align: right;\n",
              "    }\n",
              "</style>\n",
              "<table border=\"1\" class=\"dataframe\">\n",
              "  <thead>\n",
              "    <tr style=\"text-align: right;\">\n",
              "      <th></th>\n",
              "      <th>Prect</th>\n",
              "      <th>QBP</th>\n",
              "      <th>TBP</th>\n",
              "    </tr>\n",
              "  </thead>\n",
              "  <tbody>\n",
              "    <tr>\n",
              "      <th>0</th>\n",
              "      <td>1.374145e-07</td>\n",
              "      <td>0.002573</td>\n",
              "      <td>230.510773</td>\n",
              "    </tr>\n",
              "    <tr>\n",
              "      <th>1</th>\n",
              "      <td>4.603424e-07</td>\n",
              "      <td>0.002266</td>\n",
              "      <td>222.142258</td>\n",
              "    </tr>\n",
              "    <tr>\n",
              "      <th>2</th>\n",
              "      <td>1.200512e-09</td>\n",
              "      <td>0.019648</td>\n",
              "      <td>254.463882</td>\n",
              "    </tr>\n",
              "    <tr>\n",
              "      <th>3</th>\n",
              "      <td>6.923879e-09</td>\n",
              "      <td>0.003664</td>\n",
              "      <td>237.199341</td>\n",
              "    </tr>\n",
              "    <tr>\n",
              "      <th>4</th>\n",
              "      <td>NaN</td>\n",
              "      <td>0.055442</td>\n",
              "      <td>338.611450</td>\n",
              "    </tr>\n",
              "  </tbody>\n",
              "</table>\n",
              "</div>"
            ],
            "text/plain": [
              "          Prect       QBP         TBP\n",
              "0  1.374145e-07  0.002573  230.510773\n",
              "1  4.603424e-07  0.002266  222.142258\n",
              "2  1.200512e-09  0.019648  254.463882\n",
              "3  6.923879e-09  0.003664  237.199341\n",
              "4           NaN  0.055442  338.611450"
            ]
          },
          "metadata": {
            "tags": []
          },
          "execution_count": 61
        }
      ]
    },
    {
      "cell_type": "code",
      "metadata": {
        "id": "ocC2ggLEqFWo",
        "colab_type": "code",
        "colab": {
          "base_uri": "https://localhost:8080/",
          "height": 368
        },
        "outputId": "578fef4c-39b4-4fad-bad4-5692eaf6668b"
      },
      "source": [
        "ans_sorted = ans.sort_values(by='QBP')\n",
        "prect_vars_result = []\n",
        "qbp_bins_result_str = []\n",
        "for split in np.array_split(ans_sorted,10,axis = 0):\n",
        "  prect_vars_result.append(np.std(split.Prect)**2)\n",
        "  qbp_bins_result_str.append(\"{:.3f}\".format(split.QBP.min()*(10**3))+\" - \"+\"{:.3f}\".format(split.QBP.max()*(10**3)))\n",
        "\n",
        "plt.plot(prect_vars_result)\n",
        "plt.xticks(list(range(0,10)),labels=qbp_bins_result_str,rotation=90)\n",
        "plt.xlabel('QBP Range (1e-3)')\n",
        "plt.ylabel('PRECT Variance')\n",
        "plt.show()"
      ],
      "execution_count": 66,
      "outputs": [
        {
          "output_type": "display_data",
          "data": {
            "image/png": "[encoded data removed]",
            "text/plain": [
              "<Figure size 432x288 with 1 Axes>"
            ]
          },
          "metadata": {
            "tags": []
          }
        }
      ]
    }
  ]
}